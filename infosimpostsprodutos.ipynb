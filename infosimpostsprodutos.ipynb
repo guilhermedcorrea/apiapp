{
 "cells": [
  {
   "cell_type": "code",
   "execution_count": 124,
   "metadata": {},
   "outputs": [
    {
     "data": {
      "text/plain": [
       "'                  \\ncabec\\nitensRecebimento\\ninfoAdicionais\\ntransporte\\ntotais\\nparcelas\\ndepartamentos\\ncategorias\\ninfoCadastro\\nobservacoes\\n'"
      ]
     },
     "execution_count": 124,
     "metadata": {},
     "output_type": "execute_result"
    }
   ],
   "source": [
    "import json\n",
    "import requests\n",
    "import shlex\n",
    "import json\n",
    "import subprocess\n",
    "import urllib.request, urllib.error, urllib.parse\n",
    "import urllib.request\n",
    "import certifi\n",
    "from io import BytesIO\n",
    "from urllib.parse import urlencode\n",
    "from typing import Generator, Any, Literal\n",
    "from itertools import chain\n",
    "\n",
    "def get_recebimento_nf(chave) -> Generator[Any, None, None]:\n",
    "\n",
    "    valor = r\"\"\"curl -s https://app.omie.com.br/api/v1/produtos/recebimentonfe/ -H 'Content-type: application/json' -d '{\"call\":\"ConsultarRecebimento\",\"app_key\":\"1566467100198\",\"app_secret\":\"8f7c2ebf7899831ecce7c488e69a3e33\",\"param\":[{\"nIdReceb\":0,\"cChaveNfe\":\"\"}]}'\"\"\"\n",
    "    new_val = valor.replace('cChaveNfe\":\"\"',f'cChaveNfe\":\"{chave}\"')\n",
    "    lCmd = shlex.split(new_val)\n",
    "    p = subprocess.Popen(lCmd, stdout=subprocess.PIPE, stderr=subprocess.PIPE)\n",
    "    out, err = p.communicate()\n",
    "    json_data = json.loads(out.decode(\"utf-8\"))\n",
    "    yield json_data\n",
    "   \n",
    "\n",
    "\n",
    "def get_valores(valor) -> (Literal['list', 'DICT'] | None):\n",
    "    match valor:\n",
    "        case valor if type(valor)  == list:\n",
    "            return ('list')\n",
    "        \n",
    "        case valor if type(valor) == dict:\n",
    "            return ('DICT')\n",
    "        \n",
    "        case _:\n",
    "            \n",
    "            print(\"teste\")\n",
    "\n",
    "def notas_entrada_omie(pag: Any) -> Generator[Any, None, None]:\n",
    "    valor = r\"\"\"curl -s https://app.omie.com.br/api/v1/produtos/recebimentonfe/ -H 'Content-type: application/json' -d '{\"call\":\"ListarRecebimentos\",\"app_key\":\"1566467100198\",\"app_secret\":\"8f7c2ebf7899831ecce7c488e69a3e33\",\"param\":[{\"nPagina\":1,\"nRegistrosPorPagina\":2}]}'\"\"\"\n",
    "    new_val = valor.replace('\"nPagina\":1,',f'\"nPagina\":{pag},')\n",
    "    lCmd = shlex.split(new_val)\n",
    "    p = subprocess.Popen(lCmd, stdout=subprocess.PIPE, stderr=subprocess.PIPE)\n",
    "\n",
    "    out, err = p.communicate()\n",
    "    json_data = json.loads(out.decode(\"utf-8\"))\n",
    "    yield json_data\n",
    "\n",
    "for i in range(1, 10):\n",
    "    jsons = notas_entrada_omie(i)\n",
    "\n",
    "    for items in jsons:\n",
    "        new_item = items.get('recebimentos')\n",
    "        for new in new_item:\n",
    "            item = new.keys()\n",
    "           \n",
    "            for key in item:\n",
    "                produtos_nota = {}\n",
    "                nfentrada = new[key]\n",
    "               \n",
    "                if isinstance(nfentrada.get('cChaveNFe'), str):\n",
    "                    \n",
    "                    chave_nfe = nfentrada.get('cChaveNFe')\n",
    "                   \n",
    "                    jsons = next(get_recebimento_nf(chave_nfe))\n",
    "                    resultado = get_valores(jsons)\n",
    "               \n",
    "                    \n",
    "                    '''\n",
    "                    #for key in next(jsons).keys():\n",
    "                    for keys, values in next(jsons).items():\n",
    "                        if isinstance(values, list):\n",
    "                            print(values)\n",
    "                        try:\n",
    "                            refs = values.keys()\n",
    "                            for item in refs:\n",
    "                                print(item)\n",
    "                                dicts = {}\n",
    "                                if isinstance(item, dict):\n",
    "                                    dicts[item] = values[item]\n",
    "                                \n",
    "                                   \n",
    "                                                            \n",
    "                        except:\n",
    "                            pass\n",
    "                       \n",
    "                    '''      \n",
    "                            \n",
    "   \n",
    "                       \n"
   ]
  },
  {
   "cell_type": "code",
   "execution_count": null,
   "metadata": {},
   "outputs": [],
   "source": [
    "def get_recebimento_nf(chave) -> Generator[Any, None, None]:\n",
    "\n",
    "    valor = r\"\"\"curl -s https://app.omie.com.br/api/v1/produtos/recebimentonfe/ -H 'Content-type: application/json' -d '{\"call\":\"ConsultarRecebimento\",\"app_key\":\"1566467100198\",\"app_secret\":\"8f7c2ebf7899831ecce7c488e69a3e33\",\"param\":[{\"nIdReceb\":0,\"cChaveNfe\":\"\"}]}'\"\"\"\n",
    "    new_val = valor.replace('cChaveNfe\":\"\"',f'cChaveNfe\":\"{chave}\"')\n",
    "    lCmd = shlex.split(new_val)\n",
    "    p = subprocess.Popen(lCmd, stdout=subprocess.PIPE, stderr=subprocess.PIPE)\n",
    "    out, err = p.communicate()\n",
    "    json_data = json.loads(out.decode(\"utf-8\"))\n",
    "    print(json_data)\n",
    "\n",
    "\n",
    "listas = ['35210739800805000155550010000003261194193430','35210721227734000188550010001202131974656760','42210779406088000104550030001177211285128485',\n",
    "'43210737076993000195550010000003161917755518','43210737076993000195550010000003181925714528','35210721227734000188550010001209611047028400']\n",
    "\n",
    "\n",
    "\n",
    "for lista in listas:\n",
    "  \n",
    "    get_recebimento_nf(lista)\n",
    "\n",
    "\n",
    "\n"
   ]
  },
  {
   "cell_type": "code",
   "execution_count": null,
   "metadata": {},
   "outputs": [],
   "source": [
    " produtos = next(jsons)\n",
    "                    produtos = produtos.get('itensRecebimento')\n",
    "                    dicts_produtos = next(chain(produtos))\n",
    "                    lista_campo = [keys for keys in dicts_produtos.keys()]\n",
    "                    for lista in lista_campo:\n",
    "                        nf_entradas = {}\n",
    "                        dicts_produtos[lista]\n",
    "                        "
   ]
  },
  {
   "cell_type": "code",
   "execution_count": null,
   "metadata": {},
   "outputs": [],
   "source": [
    " cNumeroNFe = js.get('cNumeroNFe')\n",
    "                        cChaveNFe = js.get('cChaveNFe')\n",
    "                        dEmissaoNFe = js.get('dEmissaoNFe')\n",
    "                        cRazaoSocial = js.get('cRazaoSocial')\n",
    "                "
   ]
  },
  {
   "cell_type": "code",
   "execution_count": null,
   "metadata": {},
   "outputs": [],
   "source": [
    "  produtos.get('cEAN'), produtos.get('cCodigoProduto'),produtos.get('cUnidadeNfe'),\n",
    "                    produtos.get('nPrecoUnit'), produtos.get('nQtdeNFe'), produtos.get('cICMSCusto'),\n",
    "                    produtos.get('cICMSSTCusto'), produtos.get('cIPICusto'), produtos.get('cOutrosDespCusto'),\n",
    "                    produtos.get('cPISCusto'), produtos.get('cSeguroCusto'), produtos.get('nAliqCredCOFINSCusto'),\n",
    "                    produtos.get('nAliqCredPISCusto'), produtos.get('nValorICMSSTCusto')"
   ]
  }
 ],
 "metadata": {
  "kernelspec": {
   "display_name": "Python 3.10.0 ('venv': venv)",
   "language": "python",
   "name": "python3"
  },
  "language_info": {
   "codemirror_mode": {
    "name": "ipython",
    "version": 3
   },
   "file_extension": ".py",
   "mimetype": "text/x-python",
   "name": "python",
   "nbconvert_exporter": "python",
   "pygments_lexer": "ipython3",
   "version": "3.10.0"
  },
  "orig_nbformat": 4,
  "vscode": {
   "interpreter": {
    "hash": "e85eb9afe2a2db20d08c650626f95fa340f503269e35811ec3af5526c3f21531"
   }
  }
 },
 "nbformat": 4,
 "nbformat_minor": 2
}

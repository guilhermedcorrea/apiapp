{
 "cells": [
  {
   "cell_type": "code",
   "execution_count": 2,
   "metadata": {},
   "outputs": [],
   "source": [
    "\n",
    "from flask import Flask\n",
    "import os\n",
    "from flask_sqlalchemy import SQLAlchemy\n",
    "import urllib\n",
    "import pyodbc\n",
    "import os\n",
    "from urllib.parse import quote_plus\n",
    "from urllib import parse\n",
    "from dotenv import load_dotenv\n",
    "from os import path\n",
    "from sqlalchemy import text\n",
    "from urllib.parse import urlencode, quote_plus"
   ]
  },
  {
   "cell_type": "code",
   "execution_count": null,
   "metadata": {},
   "outputs": [],
   "source": [
    "params = urllib.parse.quote_plus(\"DRIVER={SQL Server Native Client 11.0};\"\n",
    "                                 \"SERVER=w2019.hausz.com.br;\"\n",
    "                                 \"DATABASE=HauszMapa;\"\n",
    "                                 \"UID=Aplicacao.Guilherme;\"\n",
    "                                 \"PWD=4PL1C4ÇAO_3STOQUF202#\")\n",
    "\n",
    "\n",
    "\n",
    "SQLALCHEMY_DATABASE_URI= (\"mssql+pyodbc:///?odbc_connect=%s\" % params)\n",
    "\n",
    "\n",
    "app = Flask(__name__)\n",
    "app.config['SQLALCHEMY_DATABASE_URI'] = SQLALCHEMY_DATABASE_URI\n",
    "app.config[\"SQLALCHEMY_TRACK_MODIFICATIONS\"] = False\n",
    "db = SQLAlchemy(app)\n",
    "\n"
   ]
  },
  {
   "cell_type": "code",
   "execution_count": 46,
   "metadata": {},
   "outputs": [
    {
     "name": "stdout",
     "output_type": "stream",
     "text": [
      "{'taxUnitAmount': 9.98, 'quantityTax': 5.0, 'totalAmount': 49.9, 'unitAmount': 9.98, 'quantity': 5.0, 'totalIndicator': True, 'cfop': 5102, 'tax': {'totalTax': 6.0, 'icms': {'baseTaxFCPSTAmount': 0.0, 'fcpstRetAmount': 0.0, 'fcpstRetRate': 0.0, 'fcpstAmount': 0.0, 'fcpstRate': 0.0, 'snCreditAmount': 0.0, 'snCreditRate': 0.0, 'csosn': '102', 'origin': '0'}, 'pis': {'amount': 0.0, 'rate': 0.0, 'baseTax': 208.0, 'cst': '08'}, 'cofins': {'amount': 0.0, 'rate': 0.0, 'baseTax': 208.0, 'cst': '08'}}, 'cest': '', 'unitTax': 'UN', 'unit': 'UN', 'ncm': '47079000', 'description': 'TESTE DE PRODUTO - WITMOB', 'codeGTIN': 'SEM GTIN', 'code': '001'}\n",
      "5.0\n",
      "49.9\n",
      "9.98\n",
      "5.0\n",
      "True\n"
     ]
    },
    {
     "ename": "KeyError",
     "evalue": "'True'",
     "output_type": "error",
     "traceback": [
      "\u001b[0;31m---------------------------------------------------------------------------\u001b[0m",
      "\u001b[0;31mKeyError\u001b[0m                                  Traceback (most recent call last)",
      "Cell \u001b[0;32mIn [46], line 17\u001b[0m\n\u001b[1;32m     15\u001b[0m \u001b[39mprint\u001b[39m(keys[\u001b[39m'\u001b[39m\u001b[39mquantity\u001b[39m\u001b[39m'\u001b[39m])\n\u001b[1;32m     16\u001b[0m \u001b[39mprint\u001b[39m(keys[\u001b[39m'\u001b[39m\u001b[39mtotalIndicator\u001b[39m\u001b[39m'\u001b[39m])\n\u001b[0;32m---> 17\u001b[0m \u001b[39mprint\u001b[39m(keys[\u001b[39m'\u001b[39;49m\u001b[39mTrue\u001b[39;49m\u001b[39m'\u001b[39;49m])\n\u001b[1;32m     18\u001b[0m \u001b[39mprint\u001b[39m(keys[\u001b[39m'\u001b[39m\u001b[39mcfop\u001b[39m\u001b[39m'\u001b[39m])\n\u001b[1;32m     19\u001b[0m \u001b[39mprint\u001b[39m(keys[\u001b[39m'\u001b[39m\u001b[39mtax\u001b[39m\u001b[39m'\u001b[39m][\u001b[39m'\u001b[39m\u001b[39mtotalTax\u001b[39m\u001b[39m'\u001b[39m])\n",
      "\u001b[0;31mKeyError\u001b[0m: 'True'"
     ]
    }
   ],
   "source": [
    "from collections import ChainMap  \n",
    "\n",
    "\n",
    "items = [{'taxUnitAmount': 9.98, 'quantityTax': 5.0, 'totalAmount': 49.9, 'unitAmount': 9.98, 'quantity': 5.0, 'totalIndicator': True, 'cfop': 5102, 'tax': {'totalTax': 6.0, 'icms': {'baseTaxFCPSTAmount': 0.0, 'fcpstRetAmount': 0.0, 'fcpstRetRate': 0.0, 'fcpstAmount': 0.0, 'fcpstRate': 0.0, 'snCreditAmount': 0.0, 'snCreditRate': 0.0, 'csosn': '102', 'origin': '0'}, 'pis': {'amount': 0.0, 'rate': 0.0, 'baseTax': 208.0, 'cst': '08'}, 'cofins': {'amount': 0.0, 'rate': 0.0, 'baseTax': 208.0, 'cst': '08'}}, 'cest': '', 'unitTax': 'UN', 'unit': 'UN', 'ncm': '47079000', 'description': 'TESTE DE PRODUTO - WITMOB', 'codeGTIN': 'SEM GTIN', 'code': '001'}]\n",
    "\n",
    "lista_dicts = []\n",
    "teste = [x for x in items for y in x]\n",
    "for keys in teste:\n",
    "    \n",
    "    \n",
    "    dict_produtos = {\"quantityTax\":keys['quantityTax'],\"totalAmount\":keys['totalAmount']\n",
    "                     ,\"unitAmount\":keys['unitAmount'],\"\"}\n",
    "    \n",
    "    \n",
    "    #print(keys['taxUnitAmount'])\n",
    "    \n",
    "    keys['quantityTax']\n",
    "    keys['totalAmount']\n",
    "    keys['unitAmount']\n",
    "    keys['quantity']\n",
    "    keys['totalIndicator']\n",
    "    keys['True']\n",
    "    keys['cfop']\n",
    "    keys['tax']['totalTax']\n",
    "    keys['tax']['icms']['baseTaxFCPSTAmount']\n",
    "    keys['tax']['totalTax']['fcpstRetAmount']\n",
    "    keys['tax']['totalTax']['fcpstRetRate']\n",
    "    keys['tax']['totalTax']['fcpstAmount']\n",
    "    keys['tax']['totalTax']['fcpstRate']\n",
    "    keys['tax']['totalTax']['snCreditAmount']\n",
    "    keys['tax']['totalTax']['snCreditRate']\n",
    "    keys['tax']['totalTax']['csosn']\n",
    "    keys['tax']['totalTax']['origin']\n",
    "    keys['tax']['totalTax']['pis']\n",
    "    keys['tax']['totalTax']['cofins']\n",
    "   \n",
    "    \n",
    "    \"\"\"\n",
    "    , 'cest': '', 'unitTax': 'UN', 'unit': 'UN', 'ncm': '47079000', \n",
    "    'description': 'TESTE DE PRODUTO - WITMOB', \n",
    "    'codeGTIN': 'SEM GTIN', 'code': '001'}\n",
    "    \"\"\"\n",
    "    \n",
    "    \n",
    "\n",
    "    \n",
    "\n",
    "    \n",
    "  \n",
    "    \n",
    "   \n"
   ]
  },
  {
   "cell_type": "code",
   "execution_count": null,
   "metadata": {},
   "outputs": [],
   "source": [
    "testes = {\n",
    "    \"serie\": 0,\n",
    "    \"number\": 0,\n",
    "    \"operationType\": \"Outgoing\",\n",
    "    \"destination\": \"None\",\n",
    "    \"printType\": \"None\",\n",
    "    \"purposeType\": \"None\",\n",
    "    \"consumerType\": \"FinalConsumer\",\n",
    "    \"presenceType\": \"None\",\n",
    "\n",
    "    \"buyer\": {\"stateTaxNumberIndicator\": \"None\",\"taxRegime\": \"None\",\"address\": {\"city\": {\"name\": \"Marilia\",\"code\": \"1751488\"\n",
    "            },\"state\": \"SP\", \"district\": \"distrito\",\"street\": \"Alameda Madri\", \"number\": \"555\",\"postalCode\": \"1751488\",\n",
    "            \"country\": \"BRA\"},\n",
    "        \"type\": \"Undefined\",\n",
    "        \"name\": \"Teste NF TESTE\",\n",
    "        \"federalTaxNumber\": 99999999999999,\n",
    "        \"tradeName\": \"Comprador Nome Comercial\"},\n",
    "    \n",
    "    \"items\": [{\"taxUnitAmount\": 0.0,\"quantityTax\": 0.0,\n",
    "            \"totalAmount\": 0.0,\n",
    "            \"unitAmount\": 87.90,\n",
    "            \"quantity\": 33.90,\n",
    "            \"totalIndicator\": False,\n",
    "            \"cfop\": 5102, \"tax\": {\"totalTax\": 6.0,\n",
    "\n",
    "            \"icms\": { \"baseTaxFCPSTAmount\": 0.0,\n",
    "                    \"fcpstRetAmount\": 0.0,\n",
    "                    \"fcpstRetRate\": 0.0,\n",
    "                    \"fcpstAmount\": 0.0,\n",
    "                    \"fcpstRate\": 0.0,\n",
    "                    \"snCreditAmount\": 0.0,\n",
    "                    \"snCreditRate\": 0.0,\n",
    "                    \"csosn\": \"102\",\n",
    "                    \"origin\": \"0\"\n",
    "                },\n",
    "                \"pis\": {\n",
    "                    \"amount\": 0.0,\n",
    "                    \"rate\": 0.0,\n",
    "                    \"baseTax\": 208.0,\n",
    "                    \"cst\": \"08\"\n",
    "                },\n",
    "                \"cofins\": {\n",
    "                    \"amount\": 0.0,\n",
    "                    \"rate\": 0.0,\n",
    "                    \"baseTax\": 208.0,\n",
    "                    \"cst\": \"08\"\n",
    "                }\n",
    "            },\n",
    "            \"cest\": \"\",\n",
    "            \"ncm\": \"69072100\",\n",
    "            \"description\": \"TESTE DE PRODUTO - WITMOB\",\n",
    "            \"codeGTIN\": \"7894287914364\",\n",
    "            \"code\": \"20968A\"\n",
    "        }\n",
    "    ],\n",
    "    \"id\": \"616dfa2f8f0344cbafe7aadd9e12395d\"\n",
    "}"
   ]
  },
  {
   "cell_type": "code",
   "execution_count": 1,
   "metadata": {},
   "outputs": [
    {
     "ename": "NameError",
     "evalue": "name 'testes' is not defined",
     "output_type": "error",
     "traceback": [
      "\u001b[1;31m---------------------------------------------------------------------------\u001b[0m",
      "\u001b[1;31mNameError\u001b[0m                                 Traceback (most recent call last)",
      "Cell \u001b[1;32mIn [1], line 1\u001b[0m\n\u001b[1;32m----> 1\u001b[0m testes\n",
      "\u001b[1;31mNameError\u001b[0m: name 'testes' is not defined"
     ]
    }
   ],
   "source": [
    "testes"
   ]
  }
 ],
 "metadata": {
  "kernelspec": {
   "display_name": "Python 3.10.0 ('venv': venv)",
   "language": "python",
   "name": "python3"
  },
  "language_info": {
   "codemirror_mode": {
    "name": "ipython",
    "version": 3
   },
   "file_extension": ".py",
   "mimetype": "text/x-python",
   "name": "python",
   "nbconvert_exporter": "python",
   "pygments_lexer": "ipython3",
   "version": "3.10.0"
  },
  "orig_nbformat": 4,
  "vscode": {
   "interpreter": {
    "hash": "e85eb9afe2a2db20d08c650626f95fa340f503269e35811ec3af5526c3f21531"
   }
  }
 },
 "nbformat": 4,
 "nbformat_minor": 2
}

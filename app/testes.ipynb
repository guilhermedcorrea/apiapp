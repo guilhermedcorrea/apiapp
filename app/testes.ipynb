{
 "cells": [
  {
   "cell_type": "code",
   "execution_count": 2,
   "metadata": {},
   "outputs": [],
   "source": [
    "\n",
    "from flask import Flask\n",
    "import os\n",
    "from flask_sqlalchemy import SQLAlchemy\n",
    "import urllib\n",
    "import pyodbc\n",
    "import os\n",
    "from urllib.parse import quote_plus\n",
    "from urllib import parse\n",
    "from dotenv import load_dotenv\n",
    "from os import path\n",
    "from sqlalchemy import text\n",
    "from urllib.parse import urlencode, quote_plus"
   ]
  },
  {
   "cell_type": "code",
   "execution_count": null,
   "metadata": {},
   "outputs": [],
   "source": [
    "params = urllib.parse.quote_plus(\"DRIVER={SQL Server Native Client 11.0};\"\n",
    "                                 \"SERVER=w2019.hausz.com.br;\"\n",
    "                                 \"DATABASE=HauszMapa;\"\n",
    "                                 \"UID=Aplicacao.Guilherme;\"\n",
    "                                 \"PWD=4PL1C4ÇAO_3STOQUF202#\")\n",
    "\n",
    "\n",
    "\n",
    "SQLALCHEMY_DATABASE_URI= (\"mssql+pyodbc:///?odbc_connect=%s\" % params)\n",
    "\n",
    "\n",
    "app = Flask(__name__)\n",
    "app.config['SQLALCHEMY_DATABASE_URI'] = SQLALCHEMY_DATABASE_URI\n",
    "app.config[\"SQLALCHEMY_TRACK_MODIFICATIONS\"] = False\n",
    "db = SQLAlchemy(app)\n",
    "\n",
    "\n"
   ]
  },
  {
   "cell_type": "code",
   "execution_count": null,
   "metadata": {},
   "outputs": [],
   "source": [
    "{\n",
    "    \"serie\": 0,\n",
    "    \"number\": 0,\n",
    "    \"operationType\": \"Outgoing\",\n",
    "    \"destination\": \"None\",\n",
    "    \"printType\": \"None\",\n",
    "    \"purposeType\": \"None\",\n",
    "    \"consumerType\": \"FinalConsumer\",\n",
    "    \"presenceType\": \"None\",\n",
    "\n",
    "    \"buyer\": {\"stateTaxNumberIndicator\": \"None\",\"taxRegime\": \"None\",\"address\": {\"city\": {\"name\": \"Marilia\",\"code\": \"1751488\"\n",
    "            },\"state\": \"SP\", \"district\": \"distrito\",\"street\": \"Alameda Madri\", \"number\": \"555\",\"postalCode\": \"1751488\",\n",
    "            \"country\": \"BRA\"},\n",
    "        \"type\": \"Undefined\",\n",
    "        \"name\": \"Teste NF TESTE\",\n",
    "        \"federalTaxNumber\": 99999999999999,\n",
    "        \"tradeName\": \"Comprador Nome Comercial\"},\n",
    "    \n",
    "    \"items\": [{\"taxUnitAmount\": 0.0,\"quantityTax\": 0.0,\n",
    "            \"totalAmount\": 0.0,\n",
    "            \"unitAmount\": 87.90,\n",
    "            \"quantity\": 33.90,\n",
    "            \"totalIndicator\": False,\n",
    "            \"cfop\": 5102, \"tax\": {\"totalTax\": 6.0,\n",
    "\n",
    "            \"icms\": { \"baseTaxFCPSTAmount\": 0.0,\n",
    "                    \"fcpstRetAmount\": 0.0,\n",
    "                    \"fcpstRetRate\": 0.0,\n",
    "                    \"fcpstAmount\": 0.0,\n",
    "                    \"fcpstRate\": 0.0,\n",
    "                    \"snCreditAmount\": 0.0,\n",
    "                    \"snCreditRate\": 0.0,\n",
    "                    \"csosn\": \"102\",\n",
    "                    \"origin\": \"0\"\n",
    "                },\n",
    "                \"pis\": {\n",
    "                    \"amount\": 0.0,\n",
    "                    \"rate\": 0.0,\n",
    "                    \"baseTax\": 208.0,\n",
    "                    \"cst\": \"08\"\n",
    "                },\n",
    "                \"cofins\": {\n",
    "                    \"amount\": 0.0,\n",
    "                    \"rate\": 0.0,\n",
    "                    \"baseTax\": 208.0,\n",
    "                    \"cst\": \"08\"\n",
    "                }\n",
    "            },\n",
    "            \"cest\": \"\",\n",
    "            \"ncm\": \"69072100\",\n",
    "            \"description\": \"TESTE DE PRODUTO - WITMOB\",\n",
    "            \"codeGTIN\": \"7894287914364\",\n",
    "            \"code\": \"20968A\"\n",
    "        }\n",
    "    ],\n",
    "    \"id\": \"616dfa2f8f0344cbafe7aadd9e12395d\"\n",
    "}"
   ]
  }
 ],
 "metadata": {
  "kernelspec": {
   "display_name": "Python 3.10.7 ('venv': venv)",
   "language": "python",
   "name": "python3"
  },
  "language_info": {
   "codemirror_mode": {
    "name": "ipython",
    "version": 3
   },
   "file_extension": ".py",
   "mimetype": "text/x-python",
   "name": "python",
   "nbconvert_exporter": "python",
   "pygments_lexer": "ipython3",
   "version": "3.10.7"
  },
  "orig_nbformat": 4,
  "vscode": {
   "interpreter": {
    "hash": "b8cfd27ba32552009dcf91a2a2b28d59b0584358dee191cd67c087254d9a5b89"
   }
  }
 },
 "nbformat": 4,
 "nbformat_minor": 2
}

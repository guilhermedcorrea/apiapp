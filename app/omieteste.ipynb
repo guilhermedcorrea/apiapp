{
 "cells": [
  {
   "cell_type": "code",
   "execution_count": 15,
   "metadata": {},
   "outputs": [],
   "source": [
    "import json\n",
    "from telnetlib import EC\n",
    "import requests\n",
    "import shlex\n",
    "import json\n",
    "import subprocess\n",
    "import urllib.request, urllib.error, urllib.parse\n",
    "import urllib.request\n",
    "import certifi\n",
    "from io import BytesIO\n",
    "from urllib.parse import urlencode\n",
    "from typing import Generator, Any, Literal\n",
    "from itertools import chain\n",
    "import pandas as pd\n",
    "from collections import ChainMap\n",
    "from itertools import groupby"
   ]
  },
  {
   "cell_type": "code",
   "execution_count": 19,
   "metadata": {},
   "outputs": [
    {
     "ename": "KeyError",
     "evalue": "'CodigoPedido'",
     "output_type": "error",
     "traceback": [
      "\u001b[0;31m---------------------------------------------------------------------------\u001b[0m",
      "\u001b[0;31mKeyError\u001b[0m                                  Traceback (most recent call last)",
      "Cell \u001b[0;32mIn [19], line 45\u001b[0m\n\u001b[1;32m     39\u001b[0m     \u001b[39myield\u001b[39;00m dict_p\n\u001b[1;32m     43\u001b[0m jsons \u001b[39m=\u001b[39m \u001b[39mlist\u001b[39m(ajuste_dict())\n\u001b[0;32m---> 45\u001b[0m INFO \u001b[39m=\u001b[39m \u001b[39msorted\u001b[39;49m(jsons, key\u001b[39m=\u001b[39;49mkey_func)\n\u001b[1;32m     47\u001b[0m \u001b[39mprint\u001b[39m(INFO)\n",
      "Cell \u001b[0;32mIn [19], line 2\u001b[0m, in \u001b[0;36mkey_func\u001b[0;34m(k)\u001b[0m\n\u001b[1;32m      1\u001b[0m \u001b[39mdef\u001b[39;00m \u001b[39mkey_func\u001b[39m(k):\n\u001b[0;32m----> 2\u001b[0m     \u001b[39mreturn\u001b[39;00m k[\u001b[39m'\u001b[39;49m\u001b[39mCodigoPedido\u001b[39;49m\u001b[39m'\u001b[39;49m]\n",
      "\u001b[0;31mKeyError\u001b[0m: 'CodigoPedido'"
     ]
    }
   ],
   "source": [
    "\n",
    "def key_func(k):\n",
    "    return k['CodigoPedido']\n",
    "\n",
    "\n",
    "def get_nota_saida_omie(idnota) -> Generator[Any, None, None]:\n",
    "\n",
    "    valor = r\"\"\"curl -s https://app.omie.com.br/api/v1/produtos/nfconsultar/ -H 'Content-type: application/json' -d '{\"call\":\"ConsultarNF\",\"app_key\":\"1566467100198\",\"app_secret\":\"8f7c2ebf7899831ecce7c488e69a3e33\",\"param\":[{\"nCodNF\":0,\"nNF\":\"618\"}]}'\"\"\"\n",
    "    new_val = valor.replace('\"nNF\":\"618\"',f'\"nNF\":\"{idnota}\"')\n",
    "    lCmd = shlex.split(new_val)\n",
    "    p = subprocess.Popen(lCmd, stdout=subprocess.PIPE, stderr=subprocess.PIPE)\n",
    "    out, err = p.communicate()\n",
    "    json_data = json.loads(out.decode(\"utf-8\"))\n",
    "    yield json_data\n",
    "    \n",
    "def ajuste_dict():\n",
    "    jsons = next(get_nota_saida_omie(584))\n",
    "\n",
    "    dict = {}\n",
    "    det = jsons['det']\n",
    "    total = jsons['total']\n",
    "\n",
    "    info = jsons['info']\n",
    "    compl = jsons['compl']\n",
    "    titulos = jsons['titulos']\n",
    "\n",
    "    dict.update(det[0])\n",
    "    dict.update(total['ICMSTot'])\n",
    "    dict.update(info)\n",
    "    dict.update(compl)\n",
    "    dict.update(titulos[0])\n",
    "    new_dict = {k:v for k,v in dict.items()}\n",
    "    new_dict.get('nfProdInt')\n",
    "    #print(new_dict.get('prod'))\n",
    "    dict_p = {}\n",
    "    new_dict.get('nfProdInt')\n",
    "    dict_p.update(new_dict.get('nfProdInt'))\n",
    "    new_dict.get('prod')\n",
    "    dict_p.update(new_dict.get('prod'))\n",
    "    yield dict_p\n",
    "   \n",
    "\n",
    "\n",
    "jsons = list(ajuste_dict())\n",
    "\n",
    "INFO = sorted(jsons, key=key_func)\n",
    "\n",
    "print(INFO)\n"
   ]
  },
  {
   "cell_type": "code",
   "execution_count": null,
   "metadata": {},
   "outputs": [],
   "source": []
  }
 ],
 "metadata": {
  "kernelspec": {
   "display_name": "Python 3.10.0 ('venv': venv)",
   "language": "python",
   "name": "python3"
  },
  "language_info": {
   "codemirror_mode": {
    "name": "ipython",
    "version": 3
   },
   "file_extension": ".py",
   "mimetype": "text/x-python",
   "name": "python",
   "nbconvert_exporter": "python",
   "pygments_lexer": "ipython3",
   "version": "3.10.0"
  },
  "orig_nbformat": 4,
  "vscode": {
   "interpreter": {
    "hash": "e85eb9afe2a2db20d08c650626f95fa340f503269e35811ec3af5526c3f21531"
   }
  }
 },
 "nbformat": 4,
 "nbformat_minor": 2
}

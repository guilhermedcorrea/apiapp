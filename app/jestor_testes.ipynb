{
 "cells": [
  {
   "cell_type": "code",
   "execution_count": null,
   "metadata": {},
   "outputs": [],
   "source": [
    "import json\n",
    "import request"
   ]
  },
  {
   "cell_type": "code",
   "execution_count": null,
   "metadata": {},
   "outputs": [],
   "source": [
    "url = \"https://supply.api.jestor.com/object/list\"\n",
    "payload = {\n",
    "        \"object_type\": f\"{kwargs.get('tabela')}\",\n",
    "        \"sort\": \"number_field desc\",\n",
    "        \"page\": 1,\n",
    "        \"size\": \"2\"\n",
    "        }\n",
    "headers = {\n",
    "            \"accept\": \"application/json\",\n",
    "            \"content-type\": \"application/json\",\n",
    "            \"Authorization\": f\"{API_KEY_JESTOR}\"\n",
    "        }\n",
    "print(kwargs.get('tabela'))\n",
    "response = requests.post(url, json=payload, headers=headers)\n",
    "response.json()"
   ]
  }
 ],
 "metadata": {
  "kernelspec": {
   "display_name": "Python 3.10.7 ('venv': venv)",
   "language": "python",
   "name": "python3"
  },
  "language_info": {
   "name": "python",
   "version": "3.10.7"
  },
  "orig_nbformat": 4,
  "vscode": {
   "interpreter": {
    "hash": "b8cfd27ba32552009dcf91a2a2b28d59b0584358dee191cd67c087254d9a5b89"
   }
  }
 },
 "nbformat": 4,
 "nbformat_minor": 2
}
